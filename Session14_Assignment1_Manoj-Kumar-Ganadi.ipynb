{
 "cells": [
  {
   "cell_type": "raw",
   "metadata": {},
   "source": [
    "Problem Statement 1: [150 marks]\n",
    "Let the continuous random variable D denote the diameter of the hole drilled in an aluminum sheet. The\n",
    "target diameter to be achieved is 12.5mm. Random disturbances in the process often result in inaccuracy.\n",
    "Historical data shows that the distribution of D can be modelled by the PDF, f(d) = 20e−20(d−12.5), d ≥\n",
    "12.5. If a part with diameter > 12.6 mm needs to be scrapped, what is the proportion of those parts? What\n",
    "is the CDF when the diameter is of 11 mm? What is the conclusion of this experiment?\n",
    "\n",
    "Problem Statement 2: [100 marks]\n",
    "Please compute the following:\n",
    "a) P(Z > 1.26), . P(Z < −0.86), P(Z > −1.37), P(−1.25 < Z < 0.37), . P(Z ≤ −4.6)\n",
    "b) Find the value z such that P(Z > z) = 0.05\n",
    "c) Find the value of z such that P(−z < Z < z) = 0.99\n",
    "\n",
    "Problem Statement 3: [100 marks]\n",
    "The current flow in a copper wire follow a normal distribution with a mean of 10 mA and a variance of 4\n",
    "(mA)^2. What is the probability that a current measurement will exceed 13 mA? What is the probability\n",
    "that a current measurement is between 9 and 11mA? Determine the current measurement which has a\n",
    "probability of 0.98.\n",
    "\n",
    "Problem Statement 4: [150 marks]\n",
    "The shaft in a piston has its diameter normally distributed with a mean of 0.2508 inch and a standard\n",
    "deviation of 0.0005 inch. The specifications of the shaft are 0.2500 ∓ 0.0015 inch. What proportion of\n",
    "shafts are in sync with the specifications? If the process is centered so that the mean is equal to the target\n",
    "value of 0.2500, what proportion of shafts conform to the new specifications? What is your conclusion\n",
    "from this experiment?"
   ]
  }
 ],
 "metadata": {
  "kernelspec": {
   "display_name": "Python 3",
   "language": "python",
   "name": "python3"
  },
  "language_info": {
   "codemirror_mode": {
    "name": "ipython",
    "version": 3
   },
   "file_extension": ".py",
   "mimetype": "text/x-python",
   "name": "python",
   "nbconvert_exporter": "python",
   "pygments_lexer": "ipython3",
   "version": "3.7.0"
  }
 },
 "nbformat": 4,
 "nbformat_minor": 2
}
